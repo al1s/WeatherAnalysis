{
 "cells": [
  {
   "cell_type": "markdown",
   "metadata": {},
   "source": [
    "# Panda cookbook 6"
   ]
  },
  {
   "cell_type": "code",
   "execution_count": 418,
   "metadata": {
    "collapsed": false
   },
   "outputs": [],
   "source": [
    "import numpy as np"
   ]
  },
  {
   "cell_type": "code",
   "execution_count": 423,
   "metadata": {
    "collapsed": true
   },
   "outputs": [],
   "source": [
    "data_path = '/Volumes/MacHD/Users/alstof/pandas-cookbook/data/weather_2012.csv'\n",
    "weather_2012 = pd.read_csv(data_path, parse_dates=True, index_col='Date/Time')"
   ]
  },
  {
   "cell_type": "code",
   "execution_count": 502,
   "metadata": {
    "collapsed": false
   },
   "outputs": [
    {
     "data": {
      "text/plain": [
       "Index(['Mainly Clear', 'Mostly Cloudy', 'Cloudy', 'Clear', 'Snow', 'Rain',\n",
       "       'Rain Showers', 'Fog', 'Rain,Fog', 'Drizzle,Fog'],\n",
       "      dtype='object')"
      ]
     },
     "execution_count": 502,
     "metadata": {},
     "output_type": "execute_result"
    }
   ],
   "source": [
    "#show only top 10 strings\n",
    "#pd.Series(weather_2012['Weather']).value_counts().index[:10]"
   ]
  },
  {
   "cell_type": "code",
   "execution_count": 496,
   "metadata": {
    "collapsed": false
   },
   "outputs": [],
   "source": [
    "#weather_2012[:5]\n",
    "weather_top_conditions = pd.Series(weather_2012['Weather']).value_counts()>50\n",
    "#weather_top_conditions[weather_top_conditions]\n",
    "#weather_top_conditions"
   ]
  },
  {
   "cell_type": "code",
   "execution_count": 495,
   "metadata": {
    "collapsed": false
   },
   "outputs": [],
   "source": [
    "#weather_2012['Weather'].str.contains('Snow').astype(float).resample('M', how=np.mean).plot(kind='bar')"
   ]
  },
  {
   "cell_type": "code",
   "execution_count": 494,
   "metadata": {
    "collapsed": false
   },
   "outputs": [],
   "source": [
    "#weather_2012['Temp (C)'].resample('M', how=np.median).plot(kind='bar')"
   ]
  },
  {
   "cell_type": "code",
   "execution_count": 488,
   "metadata": {
    "collapsed": true
   },
   "outputs": [],
   "source": [
    "temperature_2012 = weather_2012['Temp (C)'].resample('M', how=np.median)\n",
    "snow_2012 = weather_2012['Weather'].str.contains('Snow').astype(float).resample('M', how=np.mean)\n",
    "temperature_2012.name = 'Temperature'\n",
    "snow_2012.name = 'Snow'\n",
    "stats = pd.concat([temperature_2012, snow_2012], axis=1)"
   ]
  },
  {
   "cell_type": "code",
   "execution_count": 498,
   "metadata": {
    "collapsed": false
   },
   "outputs": [],
   "source": [
    "#stats"
   ]
  },
  {
   "cell_type": "code",
   "execution_count": 493,
   "metadata": {
    "collapsed": false
   },
   "outputs": [
    {
     "data": {
      "text/plain": [
       "array([<matplotlib.axes._subplots.AxesSubplot object at 0x1400ee4a8>,\n",
       "       <matplotlib.axes._subplots.AxesSubplot object at 0x1440af710>], dtype=object)"
      ]
     },
     "execution_count": 493,
     "metadata": {},
     "output_type": "execute_result"
    },
    {
     "data": {
      "image/png": "[encoded data removed]",
      "text/plain": [
       "<matplotlib.figure.Figure at 0x14007e390>"
      ]
     },
     "metadata": {},
     "output_type": "display_data"
    }
   ],
   "source": [
    "stats.plot(subplots=True, kind='bar', figsize=[15,10])"
   ]
  },
  {
   "cell_type": "markdown",
   "metadata": {},
   "source": [
    "#Return to Statistical analysis with python"
   ]
  },
  {
   "cell_type": "code",
   "execution_count": 4,
   "metadata": {
    "collapsed": false
   },
   "outputs": [],
   "source": [
    "vessel_data = pd.read_csv('statistical-analysis-python-tutorial/data/AIS/vessel_information.csv')"
   ]
  },
  {
   "cell_type": "code",
   "execution_count": 5,
   "metadata": {
    "collapsed": false
   },
   "outputs": [
    {
     "data": {
      "text/html": [
       "<div>\n",
       "<table border=\"1\" class=\"dataframe\">\n",
       "  <thead>\n",
       "    <tr style=\"text-align: right;\">\n",
       "      <th></th>\n",
       "      <th>mmsi</th>\n",
       "      <th>num_names</th>\n",
       "      <th>names</th>\n",
       "      <th>sov</th>\n",
       "      <th>flag</th>\n",
       "      <th>flag_type</th>\n",
       "      <th>num_loas</th>\n",
       "      <th>loa</th>\n",
       "      <th>max_loa</th>\n",
       "      <th>num_types</th>\n",
       "      <th>type</th>\n",
       "    </tr>\n",
       "  </thead>\n",
       "  <tbody>\n",
       "    <tr>\n",
       "      <th>0</th>\n",
       "      <td>1</td>\n",
       "      <td>8</td>\n",
       "      <td>Bil Holman Dredge/Dredge Capt Frank/Emo/Offsho...</td>\n",
       "      <td>Y</td>\n",
       "      <td>Unknown</td>\n",
       "      <td>Unknown</td>\n",
       "      <td>7</td>\n",
       "      <td>42.0/48.0/57.0/90.0/138.0/154.0/156.0</td>\n",
       "      <td>156</td>\n",
       "      <td>4</td>\n",
       "      <td>Dredging/MilOps/Reserved/Towing</td>\n",
       "    </tr>\n",
       "    <tr>\n",
       "      <th>1</th>\n",
       "      <td>9</td>\n",
       "      <td>3</td>\n",
       "      <td>000000009/Raven/Shearwater</td>\n",
       "      <td>N</td>\n",
       "      <td>Unknown</td>\n",
       "      <td>Unknown</td>\n",
       "      <td>2</td>\n",
       "      <td>50.0/62.0</td>\n",
       "      <td>62</td>\n",
       "      <td>2</td>\n",
       "      <td>Pleasure/Tug</td>\n",
       "    </tr>\n",
       "    <tr>\n",
       "      <th>2</th>\n",
       "      <td>21</td>\n",
       "      <td>1</td>\n",
       "      <td>Us Gov Vessel</td>\n",
       "      <td>Y</td>\n",
       "      <td>Unknown</td>\n",
       "      <td>Unknown</td>\n",
       "      <td>1</td>\n",
       "      <td>208.0</td>\n",
       "      <td>208</td>\n",
       "      <td>1</td>\n",
       "      <td>Unknown</td>\n",
       "    </tr>\n",
       "    <tr>\n",
       "      <th>3</th>\n",
       "      <td>74</td>\n",
       "      <td>2</td>\n",
       "      <td>Mcfaul/Sarah Bell</td>\n",
       "      <td>N</td>\n",
       "      <td>Unknown</td>\n",
       "      <td>Unknown</td>\n",
       "      <td>1</td>\n",
       "      <td>155.0</td>\n",
       "      <td>155</td>\n",
       "      <td>1</td>\n",
       "      <td>Unknown</td>\n",
       "    </tr>\n",
       "    <tr>\n",
       "      <th>4</th>\n",
       "      <td>103</td>\n",
       "      <td>3</td>\n",
       "      <td>Ron G/Us Navy Warship 103/Us Warship 103</td>\n",
       "      <td>Y</td>\n",
       "      <td>Unknown</td>\n",
       "      <td>Unknown</td>\n",
       "      <td>2</td>\n",
       "      <td>26.0/155.0</td>\n",
       "      <td>155</td>\n",
       "      <td>2</td>\n",
       "      <td>Tanker/Unknown</td>\n",
       "    </tr>\n",
       "  </tbody>\n",
       "</table>\n",
       "</div>"
      ],
      "text/plain": [
       "   mmsi  num_names                                              names sov  \\\n",
       "0     1          8  Bil Holman Dredge/Dredge Capt Frank/Emo/Offsho...   Y   \n",
       "1     9          3                         000000009/Raven/Shearwater   N   \n",
       "2    21          1                                      Us Gov Vessel   Y   \n",
       "3    74          2                                  Mcfaul/Sarah Bell   N   \n",
       "4   103          3           Ron G/Us Navy Warship 103/Us Warship 103   Y   \n",
       "\n",
       "      flag flag_type  num_loas                                    loa  \\\n",
       "0  Unknown   Unknown         7  42.0/48.0/57.0/90.0/138.0/154.0/156.0   \n",
       "1  Unknown   Unknown         2                              50.0/62.0   \n",
       "2  Unknown   Unknown         1                                  208.0   \n",
       "3  Unknown   Unknown         1                                  155.0   \n",
       "4  Unknown   Unknown         2                             26.0/155.0   \n",
       "\n",
       "   max_loa  num_types                             type  \n",
       "0      156          4  Dredging/MilOps/Reserved/Towing  \n",
       "1       62          2                     Pleasure/Tug  \n",
       "2      208          1                          Unknown  \n",
       "3      155          1                          Unknown  \n",
       "4      155          2                   Tanker/Unknown  "
      ]
     },
     "execution_count": 5,
     "metadata": {},
     "output_type": "execute_result"
    }
   ],
   "source": [
    "#vessel_data.mmsi.count()\n",
    "vessel_data.head(5)"
   ]
  },
  {
   "cell_type": "code",
   "execution_count": 6,
   "metadata": {
    "collapsed": false
   },
   "outputs": [],
   "source": [
    "\n",
    "vessel_data.index = vessel_data['mmsi']"
   ]
  },
  {
   "cell_type": "code",
   "execution_count": 7,
   "metadata": {
    "collapsed": false
   },
   "outputs": [],
   "source": [
    "vessels5 = vessel_data[vessel_data.type.apply(lambda t: t in vessel_data.type.value_counts().index[:5])]"
   ]
  },
  {
   "cell_type": "code",
   "execution_count": 9,
   "metadata": {
    "collapsed": false
   },
   "outputs": [
    {
     "data": {
      "text/html": [
       "<div>\n",
       "<table border=\"1\" class=\"dataframe\">\n",
       "  <thead>\n",
       "    <tr style=\"text-align: right;\">\n",
       "      <th></th>\n",
       "      <th>Cargo</th>\n",
       "      <th>Pleasure</th>\n",
       "      <th>Sailing</th>\n",
       "      <th>Tanker</th>\n",
       "      <th>Tug</th>\n",
       "    </tr>\n",
       "    <tr>\n",
       "      <th>mmsi</th>\n",
       "      <th></th>\n",
       "      <th></th>\n",
       "      <th></th>\n",
       "      <th></th>\n",
       "      <th></th>\n",
       "    </tr>\n",
       "  </thead>\n",
       "  <tbody>\n",
       "    <tr>\n",
       "      <th>15151</th>\n",
       "      <td>0</td>\n",
       "      <td>0</td>\n",
       "      <td>0</td>\n",
       "      <td>0</td>\n",
       "      <td>1</td>\n",
       "    </tr>\n",
       "    <tr>\n",
       "      <th>80404</th>\n",
       "      <td>0</td>\n",
       "      <td>1</td>\n",
       "      <td>0</td>\n",
       "      <td>0</td>\n",
       "      <td>0</td>\n",
       "    </tr>\n",
       "    <tr>\n",
       "      <th>366235</th>\n",
       "      <td>1</td>\n",
       "      <td>0</td>\n",
       "      <td>0</td>\n",
       "      <td>0</td>\n",
       "      <td>0</td>\n",
       "    </tr>\n",
       "    <tr>\n",
       "      <th>587370</th>\n",
       "      <td>0</td>\n",
       "      <td>0</td>\n",
       "      <td>0</td>\n",
       "      <td>0</td>\n",
       "      <td>1</td>\n",
       "    </tr>\n",
       "    <tr>\n",
       "      <th>693559</th>\n",
       "      <td>0</td>\n",
       "      <td>0</td>\n",
       "      <td>0</td>\n",
       "      <td>0</td>\n",
       "      <td>1</td>\n",
       "    </tr>\n",
       "  </tbody>\n",
       "</table>\n",
       "</div>"
      ],
      "text/plain": [
       "        Cargo  Pleasure  Sailing  Tanker  Tug\n",
       "mmsi                                         \n",
       "15151       0         0        0       0    1\n",
       "80404       0         1        0       0    0\n",
       "366235      1         0        0       0    0\n",
       "587370      0         0        0       0    1\n",
       "693559      0         0        0       0    1"
      ]
     },
     "execution_count": 9,
     "metadata": {},
     "output_type": "execute_result"
    }
   ],
   "source": [
    "pd.get_dummies(vessels5.type).head(5)"
   ]
  },
  {
   "cell_type": "code",
   "execution_count": 25,
   "metadata": {
    "collapsed": false
   },
   "outputs": [
    {
     "data": {
      "text/plain": [
       "array([14,  8,  6,  4, 12,  2, 10])"
      ]
     },
     "execution_count": 25,
     "metadata": {},
     "output_type": "execute_result"
    }
   ],
   "source": [
    "np.random.permutation([2, 4, 6, 8, 10, 12, 14])"
   ]
  },
  {
   "cell_type": "code",
   "execution_count": 27,
   "metadata": {
    "collapsed": true
   },
   "outputs": [],
   "source": [
    "np.take?"
   ]
  },
  {
   "cell_type": "markdown",
   "metadata": {},
   "source": [
    "# Let's look at Seattle historical weather data"
   ]
  },
  {
   "cell_type": "code",
   "execution_count": 1,
   "metadata": {
    "collapsed": true
   },
   "outputs": [],
   "source": [
    "import pandas as pd\n",
    "import matplotlib.pyplot as plt\n",
    "import numpy as np\n",
    "from datetime import datetime\n",
    "pd.set_option('display.mpl_style', 'default')\n",
    "plt.rcParams['figure.figsize'] = [15,5]\n",
    "%matplotlib inline"
   ]
  },
  {
   "cell_type": "code",
   "execution_count": 146,
   "metadata": {
    "collapsed": true
   },
   "outputs": [],
   "source": [
    "path_to_data = '/Users/alstof/Downloads/Green Card/Weather in Seattle/601146.csv'\n",
    "#path_to_data = '/Users/alstof/Downloads/Green Card/Weather in Seattle/601277.csv'"
   ]
  },
  {
   "cell_type": "code",
   "execution_count": 147,
   "metadata": {
    "collapsed": false
   },
   "outputs": [
    {
     "name": "stderr",
     "output_type": "stream",
     "text": [
      "/Library/Frameworks/Python.framework/Versions/3.4/lib/python3.4/site-packages/pandas/io/parsers.py:1170: DtypeWarning: Columns (6,9,10,11,14,15,16,19,21,24,26,31,36,40,41,45,46,51,55,56,61,66,71,76,79,81,86,90,91,96,99,101,106,111,116,120,121,126,131,136,141,146,151,156,161,166,171,176,181,186,191,196,201,206,211,216,221,226,231) have mixed types. Specify dtype option on import or set low_memory=False.\n",
      "  data = self._reader.read(nrows)\n"
     ]
    }
   ],
   "source": [
    "weather_data = pd.read_csv(path_to_data, na_values=[-9999,9999,' '], index_col='DATE', parse_dates=['DATE'], dayfirst=True)"
   ]
  },
  {
   "cell_type": "code",
   "execution_count": 148,
   "metadata": {
    "collapsed": false
   },
   "outputs": [],
   "source": [
    "weather_data.drop(weather_data.columns[weather_data.columns.str.contains('Flag')], axis=1, inplace=True)\n",
    "weather_data.drop(weather_data.columns[weather_data.columns.str.contains('Time of Observation')], axis=1, inplace=True)\n",
    "weather_data.drop(weather_data.count()[weather_data.count()<7000].index, axis=1, inplace=True)\n",
    "# Прежде зачистки конкретных столбцов нужно оценить их наполнение\n",
    "#weather_data.drop(['SNOW','ACMH','WSFM','WDFG','WDFM','WSFG','PGTM','WSFG','FMTM'], axis=1, inplace=True)"
   ]
  },
  {
   "cell_type": "code",
   "execution_count": 149,
   "metadata": {
    "collapsed": false
   },
   "outputs": [],
   "source": [
    "weather_data.TMAX = weather_data.TMAX.apply(lambda t: round(t/10))\n",
    "weather_data.TMIN = weather_data.TMIN.apply(lambda t: round(t/10))\n",
    "weather_data.PRCP = weather_data.PRCP.apply(lambda t: round(t/10))\n",
    "weather_data.AWND = weather_data.AWND.apply(lambda t: round(t/10)) \n",
    "weather_data.WSF2 = weather_data.WSF2.apply(lambda t: round(t/10)) "
   ]
  },
  {
   "cell_type": "code",
   "execution_count": 150,
   "metadata": {
    "collapsed": false,
    "scrolled": true
   },
   "outputs": [
    {
     "data": {
      "text/html": [
       "<div>\n",
       "<table border=\"1\" class=\"dataframe\">\n",
       "  <thead>\n",
       "    <tr style=\"text-align: right;\">\n",
       "      <th></th>\n",
       "      <th>STATION</th>\n",
       "      <th>STATION_NAME</th>\n",
       "      <th>PRCP</th>\n",
       "      <th>SNWD</th>\n",
       "      <th>SNOW</th>\n",
       "      <th>ACMH</th>\n",
       "      <th>ACSH</th>\n",
       "      <th>TSUN</th>\n",
       "      <th>TMAX</th>\n",
       "      <th>TMIN</th>\n",
       "      <th>...</th>\n",
       "      <th>WDF2</th>\n",
       "      <th>WDFG</th>\n",
       "      <th>WSF2</th>\n",
       "      <th>WDFM</th>\n",
       "      <th>WSFM</th>\n",
       "      <th>PGTM</th>\n",
       "      <th>WSFG</th>\n",
       "      <th>FMTM</th>\n",
       "      <th>WT01</th>\n",
       "      <th>WT16</th>\n",
       "    </tr>\n",
       "    <tr>\n",
       "      <th>DATE</th>\n",
       "      <th></th>\n",
       "      <th></th>\n",
       "      <th></th>\n",
       "      <th></th>\n",
       "      <th></th>\n",
       "      <th></th>\n",
       "      <th></th>\n",
       "      <th></th>\n",
       "      <th></th>\n",
       "      <th></th>\n",
       "      <th></th>\n",
       "      <th></th>\n",
       "      <th></th>\n",
       "      <th></th>\n",
       "      <th></th>\n",
       "      <th></th>\n",
       "      <th></th>\n",
       "      <th></th>\n",
       "      <th></th>\n",
       "      <th></th>\n",
       "      <th></th>\n",
       "    </tr>\n",
       "  </thead>\n",
       "  <tbody>\n",
       "    <tr>\n",
       "      <th>1948-01-01</th>\n",
       "      <td>GHCND:USW00024233</td>\n",
       "      <td>SEATTLE TACOMA INTERNATIONAL AIRPORT WA US</td>\n",
       "      <td>12</td>\n",
       "      <td>0</td>\n",
       "      <td>0</td>\n",
       "      <td>NaN</td>\n",
       "      <td>NaN</td>\n",
       "      <td>NaN</td>\n",
       "      <td>11</td>\n",
       "      <td>6</td>\n",
       "      <td>...</td>\n",
       "      <td>NaN</td>\n",
       "      <td>NaN</td>\n",
       "      <td>NaN</td>\n",
       "      <td>NaN</td>\n",
       "      <td>NaN</td>\n",
       "      <td>NaN</td>\n",
       "      <td>NaN</td>\n",
       "      <td>NaN</td>\n",
       "      <td>NaN</td>\n",
       "      <td>1</td>\n",
       "    </tr>\n",
       "    <tr>\n",
       "      <th>1948-01-02</th>\n",
       "      <td>GHCND:USW00024233</td>\n",
       "      <td>SEATTLE TACOMA INTERNATIONAL AIRPORT WA US</td>\n",
       "      <td>15</td>\n",
       "      <td>0</td>\n",
       "      <td>0</td>\n",
       "      <td>NaN</td>\n",
       "      <td>NaN</td>\n",
       "      <td>NaN</td>\n",
       "      <td>7</td>\n",
       "      <td>2</td>\n",
       "      <td>...</td>\n",
       "      <td>NaN</td>\n",
       "      <td>NaN</td>\n",
       "      <td>NaN</td>\n",
       "      <td>NaN</td>\n",
       "      <td>NaN</td>\n",
       "      <td>NaN</td>\n",
       "      <td>NaN</td>\n",
       "      <td>NaN</td>\n",
       "      <td>1</td>\n",
       "      <td>1</td>\n",
       "    </tr>\n",
       "    <tr>\n",
       "      <th>1948-01-03</th>\n",
       "      <td>GHCND:USW00024233</td>\n",
       "      <td>SEATTLE TACOMA INTERNATIONAL AIRPORT WA US</td>\n",
       "      <td>11</td>\n",
       "      <td>0</td>\n",
       "      <td>0</td>\n",
       "      <td>NaN</td>\n",
       "      <td>NaN</td>\n",
       "      <td>NaN</td>\n",
       "      <td>7</td>\n",
       "      <td>2</td>\n",
       "      <td>...</td>\n",
       "      <td>NaN</td>\n",
       "      <td>NaN</td>\n",
       "      <td>NaN</td>\n",
       "      <td>NaN</td>\n",
       "      <td>NaN</td>\n",
       "      <td>NaN</td>\n",
       "      <td>NaN</td>\n",
       "      <td>NaN</td>\n",
       "      <td>NaN</td>\n",
       "      <td>1</td>\n",
       "    </tr>\n",
       "  </tbody>\n",
       "</table>\n",
       "<p>3 rows × 21 columns</p>\n",
       "</div>"
      ],
      "text/plain": [
       "                      STATION                                STATION_NAME  \\\n",
       "DATE                                                                        \n",
       "1948-01-01  GHCND:USW00024233  SEATTLE TACOMA INTERNATIONAL AIRPORT WA US   \n",
       "1948-01-02  GHCND:USW00024233  SEATTLE TACOMA INTERNATIONAL AIRPORT WA US   \n",
       "1948-01-03  GHCND:USW00024233  SEATTLE TACOMA INTERNATIONAL AIRPORT WA US   \n",
       "\n",
       "            PRCP  SNWD  SNOW  ACMH  ACSH  TSUN  TMAX  TMIN  ...   WDF2  WDFG  \\\n",
       "DATE                                                        ...                \n",
       "1948-01-01    12     0     0   NaN   NaN   NaN    11     6  ...    NaN   NaN   \n",
       "1948-01-02    15     0     0   NaN   NaN   NaN     7     2  ...    NaN   NaN   \n",
       "1948-01-03    11     0     0   NaN   NaN   NaN     7     2  ...    NaN   NaN   \n",
       "\n",
       "            WSF2  WDFM  WSFM  PGTM  WSFG  FMTM  WT01  WT16  \n",
       "DATE                                                        \n",
       "1948-01-01   NaN   NaN   NaN   NaN   NaN   NaN   NaN     1  \n",
       "1948-01-02   NaN   NaN   NaN   NaN   NaN   NaN     1     1  \n",
       "1948-01-03   NaN   NaN   NaN   NaN   NaN   NaN   NaN     1  \n",
       "\n",
       "[3 rows x 21 columns]"
      ]
     },
     "execution_count": 150,
     "metadata": {},
     "output_type": "execute_result"
    }
   ],
   "source": [
    "#weather_data.describe()\n",
    "#weather_data.TSUN[weather_data.TSUN.replace(0, np.NAN).fillna(9999) != 9999]\n",
    "#weather_data.AWND\n",
    "weather_data.head(3)"
   ]
  },
  {
   "cell_type": "code",
   "execution_count": 11,
   "metadata": {
    "collapsed": true
   },
   "outputs": [],
   "source": [
    "weather_data.ACSH.resample?"
   ]
  },
  {
   "cell_type": "code",
   "execution_count": 157,
   "metadata": {
    "collapsed": false
   },
   "outputs": [
    {
     "data": {
      "text/plain": [
       "<matplotlib.axes._subplots.AxesSubplot at 0x13913f198>"
      ]
     },
     "execution_count": 157,
     "metadata": {},
     "output_type": "execute_result"
    },
    {
     "data": {
      "image/png": "[encoded data removed]",
      "text/plain": [
       "<matplotlib.figure.Figure at 0x13912c0b8>"
      ]
     },
     "metadata": {},
     "output_type": "display_data"
    }
   ],
   "source": [
    "w2d = weather_data.ACSH[weather_data.ACSH.fillna(9999) != 9999].resample('M', how=np.mean)\n",
    "w2d.plot(kind='bar', figsize=[18,7], title = 'Облачность, процентов в сутки')"
   ]
  },
  {
   "cell_type": "code",
   "execution_count": 158,
   "metadata": {
    "collapsed": false
   },
   "outputs": [
    {
     "data": {
      "text/plain": [
       "<matplotlib.axes._subplots.AxesSubplot at 0x13b9c8dd8>"
      ]
     },
     "execution_count": 158,
     "metadata": {},
     "output_type": "execute_result"
    },
    {
     "data": {
      "image/png": "[encoded data removed]",
      "text/plain": [
       "<matplotlib.figure.Figure at 0x13b9bc240>"
      ]
     },
     "metadata": {},
     "output_type": "display_data"
    }
   ],
   "source": [
    "w2d = weather_data.SNOW[weather_data.SNOW.fillna(9999) != 9999].resample('M', how=np.mean)\n",
    "w2d.plot(kind='bar', figsize=[18,7], title = 'Снег, мм')"
   ]
  },
  {
   "cell_type": "code",
   "execution_count": 149,
   "metadata": {
    "collapsed": false
   },
   "outputs": [
    {
     "data": {
      "text/plain": [
       "<matplotlib.axes._subplots.AxesSubplot at 0x1377a7be0>"
      ]
     },
     "execution_count": 149,
     "metadata": {},
     "output_type": "execute_result"
    },
    {
     "data": {
      "image/png": "[encoded data removed]",
      "text/plain": [
       "<matplotlib.figure.Figure at 0x136598160>"
      ]
     },
     "metadata": {},
     "output_type": "display_data"
    }
   ],
   "source": [
    "w2d = weather_data.PRCP[weather_data.PRCP.fillna(9999) != 9999][22000:].resample('M', how=np.mean)\n",
    "w2d.plot(kind='bar', figsize=[18,7], title = 'Осадки, мм')"
   ]
  },
  {
   "cell_type": "code",
   "execution_count": 150,
   "metadata": {
    "collapsed": false
   },
   "outputs": [
    {
     "data": {
      "text/plain": [
       "<matplotlib.axes._subplots.AxesSubplot at 0x138a87be0>"
      ]
     },
     "execution_count": 150,
     "metadata": {},
     "output_type": "execute_result"
    },
    {
     "data": {
      "image/png": "[encoded data removed]",
      "text/plain": [
       "<matplotlib.figure.Figure at 0x135ebd3c8>"
      ]
     },
     "metadata": {},
     "output_type": "display_data"
    }
   ],
   "source": [
    "w2d = weather_data.TSUN[weather_data.TSUN.replace(0, np.NAN).fillna(9999) != 9999].apply(lambda t: round(t/60))\\\n",
    "        [7000:].resample('M', how=np.mean)\n",
    "w2d.plot(kind='bar', figsize=[18,7], title = 'Видимость солнца, часов в сутки')"
   ]
  },
  {
   "cell_type": "code",
   "execution_count": 151,
   "metadata": {
    "collapsed": false
   },
   "outputs": [
    {
     "data": {
      "text/plain": [
       "<matplotlib.axes._subplots.AxesSubplot at 0x138d63ef0>"
      ]
     },
     "execution_count": 151,
     "metadata": {},
     "output_type": "execute_result"
    },
    {
     "data": {
      "image/png": "[encoded data removed]",
      "text/plain": [
       "<matplotlib.figure.Figure at 0x138a76dd8>"
      ]
     },
     "metadata": {},
     "output_type": "display_data"
    }
   ],
   "source": [
    "w2d = weather_data.WSF2[weather_data.WSF2.replace(0, np.NAN).fillna(9999) != 9999][4000:].resample('M', how=np.mean)\n",
    "w2d.plot(kind='bar', figsize=[18,7], title = 'Средняя скорость ветра, м/с')"
   ]
  },
  {
   "cell_type": "code",
   "execution_count": 155,
   "metadata": {
    "collapsed": false
   },
   "outputs": [
    {
     "data": {
      "text/plain": [
       "<matplotlib.axes._subplots.AxesSubplot at 0x13b29eeb8>"
      ]
     },
     "execution_count": 155,
     "metadata": {},
     "output_type": "execute_result"
    },
    {
     "data": {
      "image/png": "[encoded data removed]",
      "text/plain": [
       "<matplotlib.figure.Figure at 0x13b2ad9b0>"
      ]
     },
     "metadata": {},
     "output_type": "display_data"
    }
   ],
   "source": [
    "weather_data[['TMAX','TMIN']][15000:].plot(figsize=[20,10], title = 'Максимальная и минимальная температура, градусы Цельсия')"
   ]
  },
  {
   "cell_type": "code",
   "execution_count": 147,
   "metadata": {
    "collapsed": false
   },
   "outputs": [
    {
     "data": {
      "text/plain": [
       "<matplotlib.axes._subplots.AxesSubplot at 0x136560dd8>"
      ]
     },
     "execution_count": 147,
     "metadata": {},
     "output_type": "execute_result"
    },
    {
     "data": {
      "image/png": "[encoded data removed]",
      "text/plain": [
       "<matplotlib.figure.Figure at 0x135985a20>"
      ]
     },
     "metadata": {},
     "output_type": "display_data"
    }
   ],
   "source": [
    "w2d = weather_data[['WT01','WT16']][23000:].fillna(0).resample('M', how = np.mean)\n",
    "w2d.plot(kind = 'bar', figsize=[20,10], title = 'Дождь и туман')"
   ]
  },
  {
   "cell_type": "code",
   "execution_count": 151,
   "metadata": {
    "collapsed": false
   },
   "outputs": [],
   "source": [
    "weather_data.loc[:,'JDAY'] = weather_data.index.dayofyear\n",
    "weather_data.loc[:,'JDATE'] = weather_data.JDAY.astype(str).apply(lambda t: datetime.strptime(t , '%j'))\n",
    "weather_data.index = weather_data.JDATE"
   ]
  },
  {
   "cell_type": "code",
   "execution_count": 140,
   "metadata": {
    "collapsed": false
   },
   "outputs": [],
   "source": [
    "w_grouped_jday = weather_data.fillna(0).groupby('JDATE').aggregate(np.mean)"
   ]
  },
  {
   "cell_type": "code",
   "execution_count": 153,
   "metadata": {
    "collapsed": false,
    "scrolled": true
   },
   "outputs": [],
   "source": [
    "#w_grouped_jday.resample('M', how = np.mean).plot(subplots=True, kind = 'bar', figsize=[15,50],)"
   ]
  },
  {
   "cell_type": "code",
   "execution_count": 156,
   "metadata": {
    "collapsed": false
   },
   "outputs": [
    {
     "ename": "SyntaxError",
     "evalue": "can't assign to comparison (<ipython-input-156-0b4d8e480d64>, line 2)",
     "output_type": "error",
     "traceback": [
      "\u001b[0;36m  File \u001b[0;32m\"<ipython-input-156-0b4d8e480d64>\"\u001b[0;36m, line \u001b[0;32m2\u001b[0m\n\u001b[0;31m    weather_data['JDAY'] == 366 = weather_data['JDAY'][weather_data['JDAY'] == 366].apply(lambda t: t-1)\u001b[0m\n\u001b[0m                                                                                                        ^\u001b[0m\n\u001b[0;31mSyntaxError\u001b[0m\u001b[0;31m:\u001b[0m can't assign to comparison\n"
     ]
    }
   ],
   "source": [
    "# there are a lot of leap years in data, so we need to make day 366 just another day among others.\n",
    "weather_data['JDAY'][weather_data['JDAY'] == 366] = weather_data['JDAY'][weather_data['JDAY'] == 366].apply(lambda t: t-1)"
   ]
  },
  {
   "cell_type": "markdown",
   "metadata": {
    "collapsed": true
   },
   "source": [
    "#Try ulmo as source of weather data"
   ]
  },
  {
   "cell_type": "code",
   "execution_count": 4,
   "metadata": {
    "collapsed": true
   },
   "outputs": [],
   "source": [
    "import ulmo\n",
    "import pandas as pd\n",
    "import numpy as np"
   ]
  },
  {
   "cell_type": "code",
   "execution_count": 5,
   "metadata": {
    "collapsed": false,
    "scrolled": true
   },
   "outputs": [],
   "source": [
    "#ulmo.ncdc.ghcn_daily.get_stations(country='US', state='PA')"
   ]
  },
  {
   "cell_type": "code",
   "execution_count": 6,
   "metadata": {
    "collapsed": false
   },
   "outputs": [
    {
     "name": "stderr",
     "output_type": "stream",
     "text": [
      "/Library/Frameworks/Python.framework/Versions/3.4/lib/python3.4/site-packages/ulmo/ncdc/ghcn_daily/core.py:89: SettingWithCopyWarning: \n",
      "A value is trying to be set on a copy of a slice from a DataFrame.\n",
      "Try using .loc[row_indexer,col_indexer] = value instead\n",
      "\n",
      "See the the caveats in the documentation: http://pandas.pydata.org/pandas-docs/stable/indexing.html#indexing-view-versus-copy\n",
      "  axis=1)\n"
     ]
    }
   ],
   "source": [
    "weather_seattle = pd.DataFrame(ulmo.ncdc.ghcn_daily.get_data('USW00024233', elements = ['TMAX','TMIN','PRCP','SNOW']))\n",
    "#weather_sanfrancisco = pd.DataFrame(ulmo.ncdc.ghcn_daily.get_data('USW00023234', elements = ['TMAX','TMIN','PRCP','SNOW','ACSH']))\n",
    "#weather_raleigh = pd.DataFrame(ulmo.ncdc.ghcn_daily.get_data('USW00013722', elements = ['TMAX','TMIN','PRCP','SNOW','ACSH']))\n",
    "#weather_philadelphia = pd.DataFrame(ulmo.ncdc.ghcn_daily.get_data('USW00013739', elements = ['TMAX','TMIN','PRCP','SNOW','ACSH']))"
   ]
  },
  {
   "cell_type": "code",
   "execution_count": 22,
   "metadata": {
    "collapsed": false,
    "scrolled": true
   },
   "outputs": [
    {
     "data": {
      "text/html": [
       "<div>\n",
       "<table border=\"1\" class=\"dataframe\">\n",
       "  <thead>\n",
       "    <tr style=\"text-align: right;\">\n",
       "      <th></th>\n",
       "      <th>ACSH</th>\n",
       "      <th>PRCP</th>\n",
       "      <th>SNOW</th>\n",
       "      <th>TMAX</th>\n",
       "      <th>TMIN</th>\n",
       "    </tr>\n",
       "  </thead>\n",
       "  <tbody>\n",
       "    <tr>\n",
       "      <th>2015-09-21</th>\n",
       "      <td>NaN</td>\n",
       "      <td>{'mflag': 'T', 'sflag': 'W', 'value': 0.0, 'qf...</td>\n",
       "      <td>{'mflag': None, 'sflag': 'W', 'value': 0.0, 'q...</td>\n",
       "      <td>{'mflag': None, 'sflag': 'W', 'value': 233.0, ...</td>\n",
       "      <td>{'mflag': None, 'sflag': 'W', 'value': 156.0, ...</td>\n",
       "    </tr>\n",
       "    <tr>\n",
       "      <th>2015-09-22</th>\n",
       "      <td>NaN</td>\n",
       "      <td>{'mflag': None, 'sflag': 'W', 'value': 0.0, 'q...</td>\n",
       "      <td>{'mflag': None, 'sflag': 'W', 'value': 0.0, 'q...</td>\n",
       "      <td>{'mflag': None, 'sflag': 'W', 'value': 239.0, ...</td>\n",
       "      <td>{'mflag': None, 'sflag': 'W', 'value': 172.0, ...</td>\n",
       "    </tr>\n",
       "    <tr>\n",
       "      <th>2015-09-23</th>\n",
       "      <td>NaN</td>\n",
       "      <td>{'mflag': None, 'sflag': 'W', 'value': 0.0, 'q...</td>\n",
       "      <td>{'mflag': None, 'sflag': 'W', 'value': 0.0, 'q...</td>\n",
       "      <td>{'mflag': None, 'sflag': 'W', 'value': 267.0, ...</td>\n",
       "      <td>{'mflag': None, 'sflag': 'W', 'value': 150.0, ...</td>\n",
       "    </tr>\n",
       "    <tr>\n",
       "      <th>2015-09-24</th>\n",
       "      <td>NaN</td>\n",
       "      <td>{'mflag': None, 'sflag': None, 'value': nan, '...</td>\n",
       "      <td>{'mflag': None, 'sflag': None, 'value': nan, '...</td>\n",
       "      <td>{'mflag': None, 'sflag': None, 'value': nan, '...</td>\n",
       "      <td>{'mflag': None, 'sflag': None, 'value': nan, '...</td>\n",
       "    </tr>\n",
       "    <tr>\n",
       "      <th>2015-09-25</th>\n",
       "      <td>NaN</td>\n",
       "      <td>{'mflag': None, 'sflag': None, 'value': nan, '...</td>\n",
       "      <td>{'mflag': None, 'sflag': None, 'value': nan, '...</td>\n",
       "      <td>{'mflag': None, 'sflag': None, 'value': nan, '...</td>\n",
       "      <td>{'mflag': None, 'sflag': None, 'value': nan, '...</td>\n",
       "    </tr>\n",
       "    <tr>\n",
       "      <th>2015-09-26</th>\n",
       "      <td>NaN</td>\n",
       "      <td>{'mflag': None, 'sflag': None, 'value': nan, '...</td>\n",
       "      <td>{'mflag': None, 'sflag': None, 'value': nan, '...</td>\n",
       "      <td>{'mflag': None, 'sflag': None, 'value': nan, '...</td>\n",
       "      <td>{'mflag': None, 'sflag': None, 'value': nan, '...</td>\n",
       "    </tr>\n",
       "    <tr>\n",
       "      <th>2015-09-27</th>\n",
       "      <td>NaN</td>\n",
       "      <td>{'mflag': None, 'sflag': None, 'value': nan, '...</td>\n",
       "      <td>{'mflag': None, 'sflag': None, 'value': nan, '...</td>\n",
       "      <td>{'mflag': None, 'sflag': None, 'value': nan, '...</td>\n",
       "      <td>{'mflag': None, 'sflag': None, 'value': nan, '...</td>\n",
       "    </tr>\n",
       "    <tr>\n",
       "      <th>2015-09-28</th>\n",
       "      <td>NaN</td>\n",
       "      <td>{'mflag': None, 'sflag': None, 'value': nan, '...</td>\n",
       "      <td>{'mflag': None, 'sflag': None, 'value': nan, '...</td>\n",
       "      <td>{'mflag': None, 'sflag': None, 'value': nan, '...</td>\n",
       "      <td>{'mflag': None, 'sflag': None, 'value': nan, '...</td>\n",
       "    </tr>\n",
       "    <tr>\n",
       "      <th>2015-09-29</th>\n",
       "      <td>NaN</td>\n",
       "      <td>{'mflag': None, 'sflag': None, 'value': nan, '...</td>\n",
       "      <td>{'mflag': None, 'sflag': None, 'value': nan, '...</td>\n",
       "      <td>{'mflag': None, 'sflag': None, 'value': nan, '...</td>\n",
       "      <td>{'mflag': None, 'sflag': None, 'value': nan, '...</td>\n",
       "    </tr>\n",
       "    <tr>\n",
       "      <th>2015-09-30</th>\n",
       "      <td>NaN</td>\n",
       "      <td>{'mflag': None, 'sflag': None, 'value': nan, '...</td>\n",
       "      <td>{'mflag': None, 'sflag': None, 'value': nan, '...</td>\n",
       "      <td>{'mflag': None, 'sflag': None, 'value': nan, '...</td>\n",
       "      <td>{'mflag': None, 'sflag': None, 'value': nan, '...</td>\n",
       "    </tr>\n",
       "  </tbody>\n",
       "</table>\n",
       "</div>"
      ],
      "text/plain": [
       "           ACSH                                               PRCP  \\\n",
       "2015-09-21  NaN  {'mflag': 'T', 'sflag': 'W', 'value': 0.0, 'qf...   \n",
       "2015-09-22  NaN  {'mflag': None, 'sflag': 'W', 'value': 0.0, 'q...   \n",
       "2015-09-23  NaN  {'mflag': None, 'sflag': 'W', 'value': 0.0, 'q...   \n",
       "2015-09-24  NaN  {'mflag': None, 'sflag': None, 'value': nan, '...   \n",
       "2015-09-25  NaN  {'mflag': None, 'sflag': None, 'value': nan, '...   \n",
       "2015-09-26  NaN  {'mflag': None, 'sflag': None, 'value': nan, '...   \n",
       "2015-09-27  NaN  {'mflag': None, 'sflag': None, 'value': nan, '...   \n",
       "2015-09-28  NaN  {'mflag': None, 'sflag': None, 'value': nan, '...   \n",
       "2015-09-29  NaN  {'mflag': None, 'sflag': None, 'value': nan, '...   \n",
       "2015-09-30  NaN  {'mflag': None, 'sflag': None, 'value': nan, '...   \n",
       "\n",
       "                                                         SNOW  \\\n",
       "2015-09-21  {'mflag': None, 'sflag': 'W', 'value': 0.0, 'q...   \n",
       "2015-09-22  {'mflag': None, 'sflag': 'W', 'value': 0.0, 'q...   \n",
       "2015-09-23  {'mflag': None, 'sflag': 'W', 'value': 0.0, 'q...   \n",
       "2015-09-24  {'mflag': None, 'sflag': None, 'value': nan, '...   \n",
       "2015-09-25  {'mflag': None, 'sflag': None, 'value': nan, '...   \n",
       "2015-09-26  {'mflag': None, 'sflag': None, 'value': nan, '...   \n",
       "2015-09-27  {'mflag': None, 'sflag': None, 'value': nan, '...   \n",
       "2015-09-28  {'mflag': None, 'sflag': None, 'value': nan, '...   \n",
       "2015-09-29  {'mflag': None, 'sflag': None, 'value': nan, '...   \n",
       "2015-09-30  {'mflag': None, 'sflag': None, 'value': nan, '...   \n",
       "\n",
       "                                                         TMAX  \\\n",
       "2015-09-21  {'mflag': None, 'sflag': 'W', 'value': 233.0, ...   \n",
       "2015-09-22  {'mflag': None, 'sflag': 'W', 'value': 239.0, ...   \n",
       "2015-09-23  {'mflag': None, 'sflag': 'W', 'value': 267.0, ...   \n",
       "2015-09-24  {'mflag': None, 'sflag': None, 'value': nan, '...   \n",
       "2015-09-25  {'mflag': None, 'sflag': None, 'value': nan, '...   \n",
       "2015-09-26  {'mflag': None, 'sflag': None, 'value': nan, '...   \n",
       "2015-09-27  {'mflag': None, 'sflag': None, 'value': nan, '...   \n",
       "2015-09-28  {'mflag': None, 'sflag': None, 'value': nan, '...   \n",
       "2015-09-29  {'mflag': None, 'sflag': None, 'value': nan, '...   \n",
       "2015-09-30  {'mflag': None, 'sflag': None, 'value': nan, '...   \n",
       "\n",
       "                                                         TMIN  \n",
       "2015-09-21  {'mflag': None, 'sflag': 'W', 'value': 156.0, ...  \n",
       "2015-09-22  {'mflag': None, 'sflag': 'W', 'value': 172.0, ...  \n",
       "2015-09-23  {'mflag': None, 'sflag': 'W', 'value': 150.0, ...  \n",
       "2015-09-24  {'mflag': None, 'sflag': None, 'value': nan, '...  \n",
       "2015-09-25  {'mflag': None, 'sflag': None, 'value': nan, '...  \n",
       "2015-09-26  {'mflag': None, 'sflag': None, 'value': nan, '...  \n",
       "2015-09-27  {'mflag': None, 'sflag': None, 'value': nan, '...  \n",
       "2015-09-28  {'mflag': None, 'sflag': None, 'value': nan, '...  \n",
       "2015-09-29  {'mflag': None, 'sflag': None, 'value': nan, '...  \n",
       "2015-09-30  {'mflag': None, 'sflag': None, 'value': nan, '...  "
      ]
     },
     "execution_count": 22,
     "metadata": {},
     "output_type": "execute_result"
    }
   ],
   "source": [
    "#weather_seattle['TMAX'][0]['value']\n",
    "weather_philadelphia.tail(10)\n",
    "#weather_seattle['ACSH'][weather_seattle['ACSH'].notnull()]"
   ]
  },
  {
   "cell_type": "code",
   "execution_count": 23,
   "metadata": {
    "collapsed": false
   },
   "outputs": [],
   "source": [
    "#weather_seattle.head(4)['TMAX'].apply(lambda c: c['value'])\n",
    "#weather_seattle['SNOW'].apply(lambda c: c['value'])\n",
    "weather_seattle.fillna(value='0', inplace = True)"
   ]
  },
  {
   "cell_type": "code",
   "execution_count": 25,
   "metadata": {
    "collapsed": false
   },
   "outputs": [
    {
     "ename": "TypeError",
     "evalue": "'float' object is not subscriptable",
     "output_type": "error",
     "traceback": [
      "\u001b[0;31m---------------------------------------------------------------------------\u001b[0m",
      "\u001b[0;31mTypeError\u001b[0m                                 Traceback (most recent call last)",
      "\u001b[0;32m<ipython-input-25-3ae1b10ded98>\u001b[0m in \u001b[0;36m<module>\u001b[0;34m()\u001b[0m\n\u001b[0;32m----> 1\u001b[0;31m \u001b[0mweather_seattle\u001b[0m\u001b[0;34m[\u001b[0m\u001b[0;34m'TMAX'\u001b[0m\u001b[0;34m]\u001b[0m \u001b[0;34m=\u001b[0m \u001b[0mweather_seattle\u001b[0m\u001b[0;34m[\u001b[0m\u001b[0;34m'TMAX'\u001b[0m\u001b[0;34m]\u001b[0m\u001b[0;34m.\u001b[0m\u001b[0mapply\u001b[0m\u001b[0;34m(\u001b[0m\u001b[0;32mlambda\u001b[0m \u001b[0mc\u001b[0m\u001b[0;34m:\u001b[0m \u001b[0mc\u001b[0m\u001b[0;34m[\u001b[0m\u001b[0;34m'value'\u001b[0m\u001b[0;34m]\u001b[0m\u001b[0;34m)\u001b[0m\u001b[0;34m\u001b[0m\u001b[0m\n\u001b[0m\u001b[1;32m      2\u001b[0m \u001b[0mweather_seattle\u001b[0m\u001b[0;34m[\u001b[0m\u001b[0;34m'PRCP'\u001b[0m\u001b[0;34m]\u001b[0m \u001b[0;34m=\u001b[0m \u001b[0mweather_seattle\u001b[0m\u001b[0;34m[\u001b[0m\u001b[0;34m'PRCP'\u001b[0m\u001b[0;34m]\u001b[0m\u001b[0;34m.\u001b[0m\u001b[0mapply\u001b[0m\u001b[0;34m(\u001b[0m\u001b[0;32mlambda\u001b[0m \u001b[0mc\u001b[0m\u001b[0;34m:\u001b[0m \u001b[0mc\u001b[0m\u001b[0;34m[\u001b[0m\u001b[0;34m'value'\u001b[0m\u001b[0;34m]\u001b[0m\u001b[0;34m/\u001b[0m\u001b[0;36m10\u001b[0m\u001b[0;34m)\u001b[0m\u001b[0;34m\u001b[0m\u001b[0m\n\u001b[1;32m      3\u001b[0m \u001b[0mweather_seattle\u001b[0m\u001b[0;34m[\u001b[0m\u001b[0;34m'SNOW'\u001b[0m\u001b[0;34m]\u001b[0m \u001b[0;34m=\u001b[0m \u001b[0mweather_seattle\u001b[0m\u001b[0;34m[\u001b[0m\u001b[0;34m'SNOW'\u001b[0m\u001b[0;34m]\u001b[0m\u001b[0;34m.\u001b[0m\u001b[0mapply\u001b[0m\u001b[0;34m(\u001b[0m\u001b[0;32mlambda\u001b[0m \u001b[0mc\u001b[0m\u001b[0;34m:\u001b[0m \u001b[0mc\u001b[0m\u001b[0;34m[\u001b[0m\u001b[0;34m'value'\u001b[0m\u001b[0;34m]\u001b[0m\u001b[0;34m)\u001b[0m\u001b[0;34m\u001b[0m\u001b[0m\n\u001b[1;32m      4\u001b[0m \u001b[0mweather_seattle\u001b[0m\u001b[0;34m[\u001b[0m\u001b[0;34m'TMIN'\u001b[0m\u001b[0;34m]\u001b[0m \u001b[0;34m=\u001b[0m \u001b[0mweather_seattle\u001b[0m\u001b[0;34m[\u001b[0m\u001b[0;34m'TMIN'\u001b[0m\u001b[0;34m]\u001b[0m\u001b[0;34m.\u001b[0m\u001b[0mapply\u001b[0m\u001b[0;34m(\u001b[0m\u001b[0;32mlambda\u001b[0m \u001b[0mc\u001b[0m\u001b[0;34m:\u001b[0m \u001b[0mc\u001b[0m\u001b[0;34m[\u001b[0m\u001b[0;34m'value'\u001b[0m\u001b[0;34m]\u001b[0m\u001b[0;34m/\u001b[0m\u001b[0;36m10\u001b[0m\u001b[0;34m)\u001b[0m\u001b[0;34m\u001b[0m\u001b[0m\n\u001b[1;32m      5\u001b[0m \u001b[0;31m#weather_seattle['ACSH'] = weather_seattle['ACSH'].apply(lambda c: c['value'])\u001b[0m\u001b[0;34m\u001b[0m\u001b[0;34m\u001b[0m\u001b[0m\n",
      "\u001b[0;32m/Library/Frameworks/Python.framework/Versions/3.4/lib/python3.4/site-packages/pandas/core/series.py\u001b[0m in \u001b[0;36mapply\u001b[0;34m(self, func, convert_dtype, args, **kwds)\u001b[0m\n\u001b[1;32m   2058\u001b[0m             \u001b[0mvalues\u001b[0m \u001b[0;34m=\u001b[0m \u001b[0mlib\u001b[0m\u001b[0;34m.\u001b[0m\u001b[0mmap_infer\u001b[0m\u001b[0;34m(\u001b[0m\u001b[0mvalues\u001b[0m\u001b[0;34m,\u001b[0m \u001b[0mlib\u001b[0m\u001b[0;34m.\u001b[0m\u001b[0mTimestamp\u001b[0m\u001b[0;34m)\u001b[0m\u001b[0;34m\u001b[0m\u001b[0m\n\u001b[1;32m   2059\u001b[0m \u001b[0;34m\u001b[0m\u001b[0m\n\u001b[0;32m-> 2060\u001b[0;31m         \u001b[0mmapped\u001b[0m \u001b[0;34m=\u001b[0m \u001b[0mlib\u001b[0m\u001b[0;34m.\u001b[0m\u001b[0mmap_infer\u001b[0m\u001b[0;34m(\u001b[0m\u001b[0mvalues\u001b[0m\u001b[0;34m,\u001b[0m \u001b[0mf\u001b[0m\u001b[0;34m,\u001b[0m \u001b[0mconvert\u001b[0m\u001b[0;34m=\u001b[0m\u001b[0mconvert_dtype\u001b[0m\u001b[0;34m)\u001b[0m\u001b[0;34m\u001b[0m\u001b[0m\n\u001b[0m\u001b[1;32m   2061\u001b[0m         \u001b[0;32mif\u001b[0m \u001b[0mlen\u001b[0m\u001b[0;34m(\u001b[0m\u001b[0mmapped\u001b[0m\u001b[0;34m)\u001b[0m \u001b[0;32mand\u001b[0m \u001b[0misinstance\u001b[0m\u001b[0;34m(\u001b[0m\u001b[0mmapped\u001b[0m\u001b[0;34m[\u001b[0m\u001b[0;36m0\u001b[0m\u001b[0;34m]\u001b[0m\u001b[0;34m,\u001b[0m \u001b[0mSeries\u001b[0m\u001b[0;34m)\u001b[0m\u001b[0;34m:\u001b[0m\u001b[0;34m\u001b[0m\u001b[0m\n\u001b[1;32m   2062\u001b[0m             \u001b[0;32mfrom\u001b[0m \u001b[0mpandas\u001b[0m\u001b[0;34m.\u001b[0m\u001b[0mcore\u001b[0m\u001b[0;34m.\u001b[0m\u001b[0mframe\u001b[0m \u001b[0;32mimport\u001b[0m \u001b[0mDataFrame\u001b[0m\u001b[0;34m\u001b[0m\u001b[0m\n",
      "\u001b[0;32mpandas/src/inference.pyx\u001b[0m in \u001b[0;36mpandas.lib.map_infer (pandas/lib.c:58435)\u001b[0;34m()\u001b[0m\n",
      "\u001b[0;32m<ipython-input-25-3ae1b10ded98>\u001b[0m in \u001b[0;36m<lambda>\u001b[0;34m(c)\u001b[0m\n\u001b[0;32m----> 1\u001b[0;31m \u001b[0mweather_seattle\u001b[0m\u001b[0;34m[\u001b[0m\u001b[0;34m'TMAX'\u001b[0m\u001b[0;34m]\u001b[0m \u001b[0;34m=\u001b[0m \u001b[0mweather_seattle\u001b[0m\u001b[0;34m[\u001b[0m\u001b[0;34m'TMAX'\u001b[0m\u001b[0;34m]\u001b[0m\u001b[0;34m.\u001b[0m\u001b[0mapply\u001b[0m\u001b[0;34m(\u001b[0m\u001b[0;32mlambda\u001b[0m \u001b[0mc\u001b[0m\u001b[0;34m:\u001b[0m \u001b[0mc\u001b[0m\u001b[0;34m[\u001b[0m\u001b[0;34m'value'\u001b[0m\u001b[0;34m]\u001b[0m\u001b[0;34m)\u001b[0m\u001b[0;34m\u001b[0m\u001b[0m\n\u001b[0m\u001b[1;32m      2\u001b[0m \u001b[0mweather_seattle\u001b[0m\u001b[0;34m[\u001b[0m\u001b[0;34m'PRCP'\u001b[0m\u001b[0;34m]\u001b[0m \u001b[0;34m=\u001b[0m \u001b[0mweather_seattle\u001b[0m\u001b[0;34m[\u001b[0m\u001b[0;34m'PRCP'\u001b[0m\u001b[0;34m]\u001b[0m\u001b[0;34m.\u001b[0m\u001b[0mapply\u001b[0m\u001b[0;34m(\u001b[0m\u001b[0;32mlambda\u001b[0m \u001b[0mc\u001b[0m\u001b[0;34m:\u001b[0m \u001b[0mc\u001b[0m\u001b[0;34m[\u001b[0m\u001b[0;34m'value'\u001b[0m\u001b[0;34m]\u001b[0m\u001b[0;34m/\u001b[0m\u001b[0;36m10\u001b[0m\u001b[0;34m)\u001b[0m\u001b[0;34m\u001b[0m\u001b[0m\n\u001b[1;32m      3\u001b[0m \u001b[0mweather_seattle\u001b[0m\u001b[0;34m[\u001b[0m\u001b[0;34m'SNOW'\u001b[0m\u001b[0;34m]\u001b[0m \u001b[0;34m=\u001b[0m \u001b[0mweather_seattle\u001b[0m\u001b[0;34m[\u001b[0m\u001b[0;34m'SNOW'\u001b[0m\u001b[0;34m]\u001b[0m\u001b[0;34m.\u001b[0m\u001b[0mapply\u001b[0m\u001b[0;34m(\u001b[0m\u001b[0;32mlambda\u001b[0m \u001b[0mc\u001b[0m\u001b[0;34m:\u001b[0m \u001b[0mc\u001b[0m\u001b[0;34m[\u001b[0m\u001b[0;34m'value'\u001b[0m\u001b[0;34m]\u001b[0m\u001b[0;34m)\u001b[0m\u001b[0;34m\u001b[0m\u001b[0m\n\u001b[1;32m      4\u001b[0m \u001b[0mweather_seattle\u001b[0m\u001b[0;34m[\u001b[0m\u001b[0;34m'TMIN'\u001b[0m\u001b[0;34m]\u001b[0m \u001b[0;34m=\u001b[0m \u001b[0mweather_seattle\u001b[0m\u001b[0;34m[\u001b[0m\u001b[0;34m'TMIN'\u001b[0m\u001b[0;34m]\u001b[0m\u001b[0;34m.\u001b[0m\u001b[0mapply\u001b[0m\u001b[0;34m(\u001b[0m\u001b[0;32mlambda\u001b[0m \u001b[0mc\u001b[0m\u001b[0;34m:\u001b[0m \u001b[0mc\u001b[0m\u001b[0;34m[\u001b[0m\u001b[0;34m'value'\u001b[0m\u001b[0;34m]\u001b[0m\u001b[0;34m/\u001b[0m\u001b[0;36m10\u001b[0m\u001b[0;34m)\u001b[0m\u001b[0;34m\u001b[0m\u001b[0m\n\u001b[1;32m      5\u001b[0m \u001b[0;31m#weather_seattle['ACSH'] = weather_seattle['ACSH'].apply(lambda c: c['value'])\u001b[0m\u001b[0;34m\u001b[0m\u001b[0;34m\u001b[0m\u001b[0m\n",
      "\u001b[0;31mTypeError\u001b[0m: 'float' object is not subscriptable"
     ]
    }
   ],
   "source": [
    "weather_seattle['TMAX'] = weather_seattle['TMAX'].apply(lambda c: c['value']/10)\n",
    "weather_seattle['PRCP'] = weather_seattle['PRCP'].apply(lambda c: c['value']/10)\n",
    "weather_seattle['SNOW'] = weather_seattle['SNOW'].apply(lambda c: c['value'])\n",
    "weather_seattle['TMIN'] = weather_seattle['TMIN'].apply(lambda c: c['value']/10)\n",
    "#weather_seattle['ACSH'] = weather_seattle['ACSH'].apply(lambda c: c['value'])"
   ]
  },
  {
   "cell_type": "code",
   "execution_count": null,
   "metadata": {
    "collapsed": false,
    "scrolled": true
   },
   "outputs": [],
   "source": [
    "weather_sanfrancisco['TMAX'] = weather_sanfrancisco['TMAX'].apply(lambda c: c['value']/10)\n",
    "weather_sanfrancisco['PRCP'] = weather_sanfrancisco['PRCP'].apply(lambda c: c['value']/10)\n",
    "weather_sanfrancisco['SNOW'] = weather_sanfrancisco['SNOW'].apply(lambda c: c['value'])\n",
    "weather_sanfrancisco['TMIN'] = weather_sanfrancisco['TMIN'].apply(lambda c: c['value']/10)\n",
    "weather_sanfrancisco['ACSH'] = weather_sanfrancisco['ACSH'].apply(lambda c: c['value'])"
   ]
  },
  {
   "cell_type": "code",
   "execution_count": 20,
   "metadata": {
    "collapsed": false
   },
   "outputs": [
    {
     "ename": "TypeError",
     "evalue": "'float' object is not subscriptable",
     "output_type": "error",
     "traceback": [
      "\u001b[0;31m---------------------------------------------------------------------------\u001b[0m",
      "\u001b[0;31mTypeError\u001b[0m                                 Traceback (most recent call last)",
      "\u001b[0;32m<ipython-input-20-a1ab92819a58>\u001b[0m in \u001b[0;36m<module>\u001b[0;34m()\u001b[0m\n\u001b[1;32m      3\u001b[0m \u001b[0mweather_raleigh\u001b[0m\u001b[0;34m[\u001b[0m\u001b[0;34m'SNOW'\u001b[0m\u001b[0;34m]\u001b[0m \u001b[0;34m=\u001b[0m \u001b[0mweather_raleigh\u001b[0m\u001b[0;34m[\u001b[0m\u001b[0;34m'SNOW'\u001b[0m\u001b[0;34m]\u001b[0m\u001b[0;34m.\u001b[0m\u001b[0mapply\u001b[0m\u001b[0;34m(\u001b[0m\u001b[0;32mlambda\u001b[0m \u001b[0mc\u001b[0m\u001b[0;34m:\u001b[0m \u001b[0mc\u001b[0m\u001b[0;34m[\u001b[0m\u001b[0;34m'value'\u001b[0m\u001b[0;34m]\u001b[0m\u001b[0;34m)\u001b[0m\u001b[0;34m\u001b[0m\u001b[0m\n\u001b[1;32m      4\u001b[0m \u001b[0mweather_raleigh\u001b[0m\u001b[0;34m[\u001b[0m\u001b[0;34m'TMIN'\u001b[0m\u001b[0;34m]\u001b[0m \u001b[0;34m=\u001b[0m \u001b[0mweather_raleigh\u001b[0m\u001b[0;34m[\u001b[0m\u001b[0;34m'TMIN'\u001b[0m\u001b[0;34m]\u001b[0m\u001b[0;34m.\u001b[0m\u001b[0mapply\u001b[0m\u001b[0;34m(\u001b[0m\u001b[0;32mlambda\u001b[0m \u001b[0mc\u001b[0m\u001b[0;34m:\u001b[0m \u001b[0mc\u001b[0m\u001b[0;34m[\u001b[0m\u001b[0;34m'value'\u001b[0m\u001b[0;34m]\u001b[0m\u001b[0;34m/\u001b[0m\u001b[0;36m10\u001b[0m\u001b[0;34m)\u001b[0m\u001b[0;34m\u001b[0m\u001b[0m\n\u001b[0;32m----> 5\u001b[0;31m \u001b[0mweather_raleigh\u001b[0m\u001b[0;34m[\u001b[0m\u001b[0;34m'ACSH'\u001b[0m\u001b[0;34m]\u001b[0m \u001b[0;34m=\u001b[0m \u001b[0mweather_raleigh\u001b[0m\u001b[0;34m[\u001b[0m\u001b[0;34m'ACSH'\u001b[0m\u001b[0;34m]\u001b[0m\u001b[0;34m.\u001b[0m\u001b[0mapply\u001b[0m\u001b[0;34m(\u001b[0m\u001b[0;32mlambda\u001b[0m \u001b[0mc\u001b[0m\u001b[0;34m:\u001b[0m \u001b[0mc\u001b[0m\u001b[0;34m[\u001b[0m\u001b[0;34m'value'\u001b[0m\u001b[0;34m]\u001b[0m\u001b[0;34m)\u001b[0m\u001b[0;34m\u001b[0m\u001b[0m\n\u001b[0m",
      "\u001b[0;32m/Library/Frameworks/Python.framework/Versions/3.4/lib/python3.4/site-packages/pandas/core/series.py\u001b[0m in \u001b[0;36mapply\u001b[0;34m(self, func, convert_dtype, args, **kwds)\u001b[0m\n\u001b[1;32m   2058\u001b[0m             \u001b[0mvalues\u001b[0m \u001b[0;34m=\u001b[0m \u001b[0mlib\u001b[0m\u001b[0;34m.\u001b[0m\u001b[0mmap_infer\u001b[0m\u001b[0;34m(\u001b[0m\u001b[0mvalues\u001b[0m\u001b[0;34m,\u001b[0m \u001b[0mlib\u001b[0m\u001b[0;34m.\u001b[0m\u001b[0mTimestamp\u001b[0m\u001b[0;34m)\u001b[0m\u001b[0;34m\u001b[0m\u001b[0m\n\u001b[1;32m   2059\u001b[0m \u001b[0;34m\u001b[0m\u001b[0m\n\u001b[0;32m-> 2060\u001b[0;31m         \u001b[0mmapped\u001b[0m \u001b[0;34m=\u001b[0m \u001b[0mlib\u001b[0m\u001b[0;34m.\u001b[0m\u001b[0mmap_infer\u001b[0m\u001b[0;34m(\u001b[0m\u001b[0mvalues\u001b[0m\u001b[0;34m,\u001b[0m \u001b[0mf\u001b[0m\u001b[0;34m,\u001b[0m \u001b[0mconvert\u001b[0m\u001b[0;34m=\u001b[0m\u001b[0mconvert_dtype\u001b[0m\u001b[0;34m)\u001b[0m\u001b[0;34m\u001b[0m\u001b[0m\n\u001b[0m\u001b[1;32m   2061\u001b[0m         \u001b[0;32mif\u001b[0m \u001b[0mlen\u001b[0m\u001b[0;34m(\u001b[0m\u001b[0mmapped\u001b[0m\u001b[0;34m)\u001b[0m \u001b[0;32mand\u001b[0m \u001b[0misinstance\u001b[0m\u001b[0;34m(\u001b[0m\u001b[0mmapped\u001b[0m\u001b[0;34m[\u001b[0m\u001b[0;36m0\u001b[0m\u001b[0;34m]\u001b[0m\u001b[0;34m,\u001b[0m \u001b[0mSeries\u001b[0m\u001b[0;34m)\u001b[0m\u001b[0;34m:\u001b[0m\u001b[0;34m\u001b[0m\u001b[0m\n\u001b[1;32m   2062\u001b[0m             \u001b[0;32mfrom\u001b[0m \u001b[0mpandas\u001b[0m\u001b[0;34m.\u001b[0m\u001b[0mcore\u001b[0m\u001b[0;34m.\u001b[0m\u001b[0mframe\u001b[0m \u001b[0;32mimport\u001b[0m \u001b[0mDataFrame\u001b[0m\u001b[0;34m\u001b[0m\u001b[0m\n",
      "\u001b[0;32mpandas/src/inference.pyx\u001b[0m in \u001b[0;36mpandas.lib.map_infer (pandas/lib.c:58435)\u001b[0;34m()\u001b[0m\n",
      "\u001b[0;32m<ipython-input-20-a1ab92819a58>\u001b[0m in \u001b[0;36m<lambda>\u001b[0;34m(c)\u001b[0m\n\u001b[1;32m      3\u001b[0m \u001b[0mweather_raleigh\u001b[0m\u001b[0;34m[\u001b[0m\u001b[0;34m'SNOW'\u001b[0m\u001b[0;34m]\u001b[0m \u001b[0;34m=\u001b[0m \u001b[0mweather_raleigh\u001b[0m\u001b[0;34m[\u001b[0m\u001b[0;34m'SNOW'\u001b[0m\u001b[0;34m]\u001b[0m\u001b[0;34m.\u001b[0m\u001b[0mapply\u001b[0m\u001b[0;34m(\u001b[0m\u001b[0;32mlambda\u001b[0m \u001b[0mc\u001b[0m\u001b[0;34m:\u001b[0m \u001b[0mc\u001b[0m\u001b[0;34m[\u001b[0m\u001b[0;34m'value'\u001b[0m\u001b[0;34m]\u001b[0m\u001b[0;34m)\u001b[0m\u001b[0;34m\u001b[0m\u001b[0m\n\u001b[1;32m      4\u001b[0m \u001b[0mweather_raleigh\u001b[0m\u001b[0;34m[\u001b[0m\u001b[0;34m'TMIN'\u001b[0m\u001b[0;34m]\u001b[0m \u001b[0;34m=\u001b[0m \u001b[0mweather_raleigh\u001b[0m\u001b[0;34m[\u001b[0m\u001b[0;34m'TMIN'\u001b[0m\u001b[0;34m]\u001b[0m\u001b[0;34m.\u001b[0m\u001b[0mapply\u001b[0m\u001b[0;34m(\u001b[0m\u001b[0;32mlambda\u001b[0m \u001b[0mc\u001b[0m\u001b[0;34m:\u001b[0m \u001b[0mc\u001b[0m\u001b[0;34m[\u001b[0m\u001b[0;34m'value'\u001b[0m\u001b[0;34m]\u001b[0m\u001b[0;34m/\u001b[0m\u001b[0;36m10\u001b[0m\u001b[0;34m)\u001b[0m\u001b[0;34m\u001b[0m\u001b[0m\n\u001b[0;32m----> 5\u001b[0;31m \u001b[0mweather_raleigh\u001b[0m\u001b[0;34m[\u001b[0m\u001b[0;34m'ACSH'\u001b[0m\u001b[0;34m]\u001b[0m \u001b[0;34m=\u001b[0m \u001b[0mweather_raleigh\u001b[0m\u001b[0;34m[\u001b[0m\u001b[0;34m'ACSH'\u001b[0m\u001b[0;34m]\u001b[0m\u001b[0;34m.\u001b[0m\u001b[0mapply\u001b[0m\u001b[0;34m(\u001b[0m\u001b[0;32mlambda\u001b[0m \u001b[0mc\u001b[0m\u001b[0;34m:\u001b[0m \u001b[0mc\u001b[0m\u001b[0;34m[\u001b[0m\u001b[0;34m'value'\u001b[0m\u001b[0;34m]\u001b[0m\u001b[0;34m)\u001b[0m\u001b[0;34m\u001b[0m\u001b[0m\n\u001b[0m",
      "\u001b[0;31mTypeError\u001b[0m: 'float' object is not subscriptable"
     ]
    }
   ],
   "source": [
    "weather_raleigh['TMAX'] = weather_raleigh['TMAX'].apply(lambda c: c['value']/10)\n",
    "weather_raleigh['PRCP'] = weather_raleigh['PRCP'].apply(lambda c: c['value']/10)\n",
    "weather_raleigh['SNOW'] = weather_raleigh['SNOW'].apply(lambda c: c['value'])\n",
    "weather_raleigh['TMIN'] = weather_raleigh['TMIN'].apply(lambda c: c['value']/10)\n",
    "weather_raleigh['ACSH'] = weather_raleigh['ACSH'].apply(lambda c: c['value'])"
   ]
  },
  {
   "cell_type": "code",
   "execution_count": 132,
   "metadata": {
    "collapsed": false
   },
   "outputs": [],
   "source": [
    "weather_philadelphia['TMAX'] = weather_philadelphia['TMAX'].apply(lambda c: c['value']/10)\n",
    "weather_philadelphia['PRCP'] = weather_philadelphia['PRCP'].apply(lambda c: c['value']/10)\n",
    "weather_philadelphia['SNOW'] = weather_philadelphia['SNOW'].apply(lambda c: c['value'])\n",
    "weather_philadelphia['TMIN'] = weather_philadelphia['TMIN'].apply(lambda c: c['value']/10)\n",
    "weather_philadelphia['ACSH'] = weather_philadelphia['ACSH'].apply(lambda c: c['value'])"
   ]
  },
  {
   "cell_type": "code",
   "execution_count": 173,
   "metadata": {
    "collapsed": false
   },
   "outputs": [],
   "source": [
    "weather_seattle.index = pd.to_datetime(weather_seattle.index, '%Y-%m-%d')\n",
    "weather_seattle.loc[:,'JDAY'] = weather_seattle.index.dayofyear\n",
    "weather_seattle.loc[:,'JDATE'] = weather_seattle.JDAY.astype(str).apply(lambda t: datetime.strptime(t , '%j'))\n",
    "weather_seattle.index = weather_seattle.JDATE"
   ]
  },
  {
   "cell_type": "code",
   "execution_count": 180,
   "metadata": {
    "collapsed": false
   },
   "outputs": [],
   "source": [
    "weather_sanfrancisco.index = pd.to_datetime(weather_sanfrancisco.index, '%Y-%m-%d')\n",
    "weather_sanfrancisco.loc[:,'JDAY'] = weather_sanfrancisco.index.dayofyear"
   ]
  },
  {
   "cell_type": "code",
   "execution_count": 183,
   "metadata": {
    "collapsed": false,
    "scrolled": true
   },
   "outputs": [
    {
     "data": {
      "text/html": [
       "<div>\n",
       "<table border=\"1\" class=\"dataframe\">\n",
       "  <thead>\n",
       "    <tr style=\"text-align: right;\">\n",
       "      <th></th>\n",
       "      <th>PRCP</th>\n",
       "      <th>SNOW</th>\n",
       "      <th>TMAX</th>\n",
       "      <th>TMIN</th>\n",
       "      <th>JDAY</th>\n",
       "    </tr>\n",
       "  </thead>\n",
       "  <tbody>\n",
       "    <tr>\n",
       "      <th>2010-04-10</th>\n",
       "      <td>0</td>\n",
       "      <td>0</td>\n",
       "      <td>150</td>\n",
       "      <td>117</td>\n",
       "      <td>100</td>\n",
       "    </tr>\n",
       "    <tr>\n",
       "      <th>2010-04-11</th>\n",
       "      <td>23.4</td>\n",
       "      <td>0</td>\n",
       "      <td>133</td>\n",
       "      <td>94</td>\n",
       "      <td>101</td>\n",
       "    </tr>\n",
       "    <tr>\n",
       "      <th>2010-04-12</th>\n",
       "      <td>13.7</td>\n",
       "      <td>0</td>\n",
       "      <td>150</td>\n",
       "      <td>94</td>\n",
       "      <td>102</td>\n",
       "    </tr>\n",
       "    <tr>\n",
       "      <th>2010-04-13</th>\n",
       "      <td>0</td>\n",
       "      <td>0</td>\n",
       "      <td>156</td>\n",
       "      <td>100</td>\n",
       "      <td>103</td>\n",
       "    </tr>\n",
       "    <tr>\n",
       "      <th>2010-04-14</th>\n",
       "      <td>0</td>\n",
       "      <td>0</td>\n",
       "      <td>156</td>\n",
       "      <td>89</td>\n",
       "      <td>104</td>\n",
       "    </tr>\n",
       "    <tr>\n",
       "      <th>2010-04-15</th>\n",
       "      <td>0</td>\n",
       "      <td>0</td>\n",
       "      <td>189</td>\n",
       "      <td>83</td>\n",
       "      <td>105</td>\n",
       "    </tr>\n",
       "    <tr>\n",
       "      <th>2010-04-16</th>\n",
       "      <td>0</td>\n",
       "      <td>0</td>\n",
       "      <td>206</td>\n",
       "      <td>100</td>\n",
       "      <td>106</td>\n",
       "    </tr>\n",
       "    <tr>\n",
       "      <th>2010-04-17</th>\n",
       "      <td>0</td>\n",
       "      <td>0</td>\n",
       "      <td>194</td>\n",
       "      <td>117</td>\n",
       "      <td>107</td>\n",
       "    </tr>\n",
       "    <tr>\n",
       "      <th>2010-04-18</th>\n",
       "      <td>0</td>\n",
       "      <td>0</td>\n",
       "      <td>244</td>\n",
       "      <td>89</td>\n",
       "      <td>108</td>\n",
       "    </tr>\n",
       "    <tr>\n",
       "      <th>2010-04-19</th>\n",
       "      <td>0</td>\n",
       "      <td>0</td>\n",
       "      <td>189</td>\n",
       "      <td>100</td>\n",
       "      <td>109</td>\n",
       "    </tr>\n",
       "    <tr>\n",
       "      <th>2010-04-20</th>\n",
       "      <td>11.2</td>\n",
       "      <td>0</td>\n",
       "      <td>156</td>\n",
       "      <td>94</td>\n",
       "      <td>110</td>\n",
       "    </tr>\n",
       "    <tr>\n",
       "      <th>2010-04-21</th>\n",
       "      <td>1</td>\n",
       "      <td>0</td>\n",
       "      <td>139</td>\n",
       "      <td>94</td>\n",
       "      <td>111</td>\n",
       "    </tr>\n",
       "    <tr>\n",
       "      <th>2010-04-22</th>\n",
       "      <td>0</td>\n",
       "      <td>0</td>\n",
       "      <td>183</td>\n",
       "      <td>89</td>\n",
       "      <td>112</td>\n",
       "    </tr>\n",
       "    <tr>\n",
       "      <th>2010-04-23</th>\n",
       "      <td>0</td>\n",
       "      <td>0</td>\n",
       "      <td>194</td>\n",
       "      <td>89</td>\n",
       "      <td>113</td>\n",
       "    </tr>\n",
       "    <tr>\n",
       "      <th>2010-04-24</th>\n",
       "      <td>0</td>\n",
       "      <td>0</td>\n",
       "      <td>172</td>\n",
       "      <td>83</td>\n",
       "      <td>114</td>\n",
       "    </tr>\n",
       "    <tr>\n",
       "      <th>2010-04-25</th>\n",
       "      <td>0</td>\n",
       "      <td>0</td>\n",
       "      <td>244</td>\n",
       "      <td>89</td>\n",
       "      <td>115</td>\n",
       "    </tr>\n",
       "    <tr>\n",
       "      <th>2010-04-26</th>\n",
       "      <td>0</td>\n",
       "      <td>0</td>\n",
       "      <td>178</td>\n",
       "      <td>106</td>\n",
       "      <td>116</td>\n",
       "    </tr>\n",
       "    <tr>\n",
       "      <th>2010-04-27</th>\n",
       "      <td>2.3</td>\n",
       "      <td>0</td>\n",
       "      <td>167</td>\n",
       "      <td>111</td>\n",
       "      <td>117</td>\n",
       "    </tr>\n",
       "    <tr>\n",
       "      <th>2010-04-28</th>\n",
       "      <td>2.3</td>\n",
       "      <td>0</td>\n",
       "      <td>144</td>\n",
       "      <td>94</td>\n",
       "      <td>118</td>\n",
       "    </tr>\n",
       "    <tr>\n",
       "      <th>2010-04-29</th>\n",
       "      <td>0</td>\n",
       "      <td>0</td>\n",
       "      <td>156</td>\n",
       "      <td>89</td>\n",
       "      <td>119</td>\n",
       "    </tr>\n",
       "    <tr>\n",
       "      <th>2010-04-30</th>\n",
       "      <td>0</td>\n",
       "      <td>0</td>\n",
       "      <td>178</td>\n",
       "      <td>83</td>\n",
       "      <td>120</td>\n",
       "    </tr>\n",
       "    <tr>\n",
       "      <th>2010-05-01</th>\n",
       "      <td>0</td>\n",
       "      <td>0</td>\n",
       "      <td>183</td>\n",
       "      <td>89</td>\n",
       "      <td>121</td>\n",
       "    </tr>\n",
       "    <tr>\n",
       "      <th>2010-05-02</th>\n",
       "      <td>0</td>\n",
       "      <td>0</td>\n",
       "      <td>206</td>\n",
       "      <td>94</td>\n",
       "      <td>122</td>\n",
       "    </tr>\n",
       "    <tr>\n",
       "      <th>2010-05-03</th>\n",
       "      <td>0</td>\n",
       "      <td>0</td>\n",
       "      <td>200</td>\n",
       "      <td>100</td>\n",
       "      <td>123</td>\n",
       "    </tr>\n",
       "    <tr>\n",
       "      <th>2010-05-04</th>\n",
       "      <td>0</td>\n",
       "      <td>0</td>\n",
       "      <td>211</td>\n",
       "      <td>89</td>\n",
       "      <td>124</td>\n",
       "    </tr>\n",
       "    <tr>\n",
       "      <th>2010-05-05</th>\n",
       "      <td>0</td>\n",
       "      <td>0</td>\n",
       "      <td>172</td>\n",
       "      <td>94</td>\n",
       "      <td>125</td>\n",
       "    </tr>\n",
       "    <tr>\n",
       "      <th>2010-05-06</th>\n",
       "      <td>0</td>\n",
       "      <td>0</td>\n",
       "      <td>206</td>\n",
       "      <td>83</td>\n",
       "      <td>126</td>\n",
       "    </tr>\n",
       "    <tr>\n",
       "      <th>2010-05-07</th>\n",
       "      <td>0</td>\n",
       "      <td>0</td>\n",
       "      <td>172</td>\n",
       "      <td>100</td>\n",
       "      <td>127</td>\n",
       "    </tr>\n",
       "    <tr>\n",
       "      <th>2010-05-08</th>\n",
       "      <td>0</td>\n",
       "      <td>0</td>\n",
       "      <td>172</td>\n",
       "      <td>100</td>\n",
       "      <td>128</td>\n",
       "    </tr>\n",
       "    <tr>\n",
       "      <th>2010-05-09</th>\n",
       "      <td>0.3</td>\n",
       "      <td>0</td>\n",
       "      <td>167</td>\n",
       "      <td>117</td>\n",
       "      <td>129</td>\n",
       "    </tr>\n",
       "    <tr>\n",
       "      <th>...</th>\n",
       "      <td>...</td>\n",
       "      <td>...</td>\n",
       "      <td>...</td>\n",
       "      <td>...</td>\n",
       "      <td>...</td>\n",
       "    </tr>\n",
       "    <tr>\n",
       "      <th>2015-09-01</th>\n",
       "      <td>0</td>\n",
       "      <td>0</td>\n",
       "      <td>244</td>\n",
       "      <td>150</td>\n",
       "      <td>244</td>\n",
       "    </tr>\n",
       "    <tr>\n",
       "      <th>2015-09-02</th>\n",
       "      <td>0</td>\n",
       "      <td>0</td>\n",
       "      <td>228</td>\n",
       "      <td>167</td>\n",
       "      <td>245</td>\n",
       "    </tr>\n",
       "    <tr>\n",
       "      <th>2015-09-03</th>\n",
       "      <td>0</td>\n",
       "      <td>0</td>\n",
       "      <td>206</td>\n",
       "      <td>150</td>\n",
       "      <td>246</td>\n",
       "    </tr>\n",
       "    <tr>\n",
       "      <th>2015-09-04</th>\n",
       "      <td>0</td>\n",
       "      <td>0</td>\n",
       "      <td>206</td>\n",
       "      <td>133</td>\n",
       "      <td>247</td>\n",
       "    </tr>\n",
       "    <tr>\n",
       "      <th>2015-09-05</th>\n",
       "      <td>0</td>\n",
       "      <td>0</td>\n",
       "      <td>250</td>\n",
       "      <td>117</td>\n",
       "      <td>248</td>\n",
       "    </tr>\n",
       "    <tr>\n",
       "      <th>2015-09-06</th>\n",
       "      <td>0</td>\n",
       "      <td>0</td>\n",
       "      <td>294</td>\n",
       "      <td>133</td>\n",
       "      <td>249</td>\n",
       "    </tr>\n",
       "    <tr>\n",
       "      <th>2015-09-07</th>\n",
       "      <td>0</td>\n",
       "      <td>0</td>\n",
       "      <td>317</td>\n",
       "      <td>144</td>\n",
       "      <td>250</td>\n",
       "    </tr>\n",
       "    <tr>\n",
       "      <th>2015-09-08</th>\n",
       "      <td>0</td>\n",
       "      <td>0</td>\n",
       "      <td>333</td>\n",
       "      <td>161</td>\n",
       "      <td>251</td>\n",
       "    </tr>\n",
       "    <tr>\n",
       "      <th>2015-09-09</th>\n",
       "      <td>0</td>\n",
       "      <td>0</td>\n",
       "      <td>328</td>\n",
       "      <td>156</td>\n",
       "      <td>252</td>\n",
       "    </tr>\n",
       "    <tr>\n",
       "      <th>2015-09-10</th>\n",
       "      <td>0</td>\n",
       "      <td>0</td>\n",
       "      <td>283</td>\n",
       "      <td>139</td>\n",
       "      <td>253</td>\n",
       "    </tr>\n",
       "    <tr>\n",
       "      <th>2015-09-11</th>\n",
       "      <td>0</td>\n",
       "      <td>0</td>\n",
       "      <td>244</td>\n",
       "      <td>139</td>\n",
       "      <td>254</td>\n",
       "    </tr>\n",
       "    <tr>\n",
       "      <th>2015-09-12</th>\n",
       "      <td>0</td>\n",
       "      <td>0</td>\n",
       "      <td>228</td>\n",
       "      <td>139</td>\n",
       "      <td>255</td>\n",
       "    </tr>\n",
       "    <tr>\n",
       "      <th>2015-09-13</th>\n",
       "      <td>0</td>\n",
       "      <td>0</td>\n",
       "      <td>222</td>\n",
       "      <td>150</td>\n",
       "      <td>256</td>\n",
       "    </tr>\n",
       "    <tr>\n",
       "      <th>2015-09-14</th>\n",
       "      <td>0</td>\n",
       "      <td>0</td>\n",
       "      <td>200</td>\n",
       "      <td>144</td>\n",
       "      <td>257</td>\n",
       "    </tr>\n",
       "    <tr>\n",
       "      <th>2015-09-15</th>\n",
       "      <td>0</td>\n",
       "      <td>0</td>\n",
       "      <td>200</td>\n",
       "      <td>139</td>\n",
       "      <td>258</td>\n",
       "    </tr>\n",
       "    <tr>\n",
       "      <th>2015-09-16</th>\n",
       "      <td>0</td>\n",
       "      <td>0</td>\n",
       "      <td>211</td>\n",
       "      <td>144</td>\n",
       "      <td>259</td>\n",
       "    </tr>\n",
       "    <tr>\n",
       "      <th>2015-09-17</th>\n",
       "      <td>0</td>\n",
       "      <td>0</td>\n",
       "      <td>211</td>\n",
       "      <td>144</td>\n",
       "      <td>260</td>\n",
       "    </tr>\n",
       "    <tr>\n",
       "      <th>2015-09-18</th>\n",
       "      <td>0</td>\n",
       "      <td>0</td>\n",
       "      <td>261</td>\n",
       "      <td>133</td>\n",
       "      <td>261</td>\n",
       "    </tr>\n",
       "    <tr>\n",
       "      <th>2015-09-19</th>\n",
       "      <td>0</td>\n",
       "      <td>0</td>\n",
       "      <td>0</td>\n",
       "      <td>0</td>\n",
       "      <td>262</td>\n",
       "    </tr>\n",
       "    <tr>\n",
       "      <th>2015-09-20</th>\n",
       "      <td>0</td>\n",
       "      <td>0</td>\n",
       "      <td>0</td>\n",
       "      <td>0</td>\n",
       "      <td>263</td>\n",
       "    </tr>\n",
       "    <tr>\n",
       "      <th>2015-09-21</th>\n",
       "      <td>0</td>\n",
       "      <td>0</td>\n",
       "      <td>0</td>\n",
       "      <td>0</td>\n",
       "      <td>264</td>\n",
       "    </tr>\n",
       "    <tr>\n",
       "      <th>2015-09-22</th>\n",
       "      <td>0</td>\n",
       "      <td>0</td>\n",
       "      <td>0</td>\n",
       "      <td>0</td>\n",
       "      <td>265</td>\n",
       "    </tr>\n",
       "    <tr>\n",
       "      <th>2015-09-23</th>\n",
       "      <td>0</td>\n",
       "      <td>0</td>\n",
       "      <td>0</td>\n",
       "      <td>0</td>\n",
       "      <td>266</td>\n",
       "    </tr>\n",
       "    <tr>\n",
       "      <th>2015-09-24</th>\n",
       "      <td>0</td>\n",
       "      <td>0</td>\n",
       "      <td>0</td>\n",
       "      <td>0</td>\n",
       "      <td>267</td>\n",
       "    </tr>\n",
       "    <tr>\n",
       "      <th>2015-09-25</th>\n",
       "      <td>0</td>\n",
       "      <td>0</td>\n",
       "      <td>0</td>\n",
       "      <td>0</td>\n",
       "      <td>268</td>\n",
       "    </tr>\n",
       "    <tr>\n",
       "      <th>2015-09-26</th>\n",
       "      <td>0</td>\n",
       "      <td>0</td>\n",
       "      <td>0</td>\n",
       "      <td>0</td>\n",
       "      <td>269</td>\n",
       "    </tr>\n",
       "    <tr>\n",
       "      <th>2015-09-27</th>\n",
       "      <td>0</td>\n",
       "      <td>0</td>\n",
       "      <td>0</td>\n",
       "      <td>0</td>\n",
       "      <td>270</td>\n",
       "    </tr>\n",
       "    <tr>\n",
       "      <th>2015-09-28</th>\n",
       "      <td>0</td>\n",
       "      <td>0</td>\n",
       "      <td>0</td>\n",
       "      <td>0</td>\n",
       "      <td>271</td>\n",
       "    </tr>\n",
       "    <tr>\n",
       "      <th>2015-09-29</th>\n",
       "      <td>0</td>\n",
       "      <td>0</td>\n",
       "      <td>0</td>\n",
       "      <td>0</td>\n",
       "      <td>272</td>\n",
       "    </tr>\n",
       "    <tr>\n",
       "      <th>2015-09-30</th>\n",
       "      <td>0</td>\n",
       "      <td>0</td>\n",
       "      <td>0</td>\n",
       "      <td>0</td>\n",
       "      <td>273</td>\n",
       "    </tr>\n",
       "  </tbody>\n",
       "</table>\n",
       "<p>2000 rows × 5 columns</p>\n",
       "</div>"
      ],
      "text/plain": [
       "            PRCP SNOW TMAX TMIN  JDAY\n",
       "2010-04-10     0    0  150  117   100\n",
       "2010-04-11  23.4    0  133   94   101\n",
       "2010-04-12  13.7    0  150   94   102\n",
       "2010-04-13     0    0  156  100   103\n",
       "2010-04-14     0    0  156   89   104\n",
       "2010-04-15     0    0  189   83   105\n",
       "2010-04-16     0    0  206  100   106\n",
       "2010-04-17     0    0  194  117   107\n",
       "2010-04-18     0    0  244   89   108\n",
       "2010-04-19     0    0  189  100   109\n",
       "2010-04-20  11.2    0  156   94   110\n",
       "2010-04-21     1    0  139   94   111\n",
       "2010-04-22     0    0  183   89   112\n",
       "2010-04-23     0    0  194   89   113\n",
       "2010-04-24     0    0  172   83   114\n",
       "2010-04-25     0    0  244   89   115\n",
       "2010-04-26     0    0  178  106   116\n",
       "2010-04-27   2.3    0  167  111   117\n",
       "2010-04-28   2.3    0  144   94   118\n",
       "2010-04-29     0    0  156   89   119\n",
       "2010-04-30     0    0  178   83   120\n",
       "2010-05-01     0    0  183   89   121\n",
       "2010-05-02     0    0  206   94   122\n",
       "2010-05-03     0    0  200  100   123\n",
       "2010-05-04     0    0  211   89   124\n",
       "2010-05-05     0    0  172   94   125\n",
       "2010-05-06     0    0  206   83   126\n",
       "2010-05-07     0    0  172  100   127\n",
       "2010-05-08     0    0  172  100   128\n",
       "2010-05-09   0.3    0  167  117   129\n",
       "...          ...  ...  ...  ...   ...\n",
       "2015-09-01     0    0  244  150   244\n",
       "2015-09-02     0    0  228  167   245\n",
       "2015-09-03     0    0  206  150   246\n",
       "2015-09-04     0    0  206  133   247\n",
       "2015-09-05     0    0  250  117   248\n",
       "2015-09-06     0    0  294  133   249\n",
       "2015-09-07     0    0  317  144   250\n",
       "2015-09-08     0    0  333  161   251\n",
       "2015-09-09     0    0  328  156   252\n",
       "2015-09-10     0    0  283  139   253\n",
       "2015-09-11     0    0  244  139   254\n",
       "2015-09-12     0    0  228  139   255\n",
       "2015-09-13     0    0  222  150   256\n",
       "2015-09-14     0    0  200  144   257\n",
       "2015-09-15     0    0  200  139   258\n",
       "2015-09-16     0    0  211  144   259\n",
       "2015-09-17     0    0  211  144   260\n",
       "2015-09-18     0    0  261  133   261\n",
       "2015-09-19     0    0    0    0   262\n",
       "2015-09-20     0    0    0    0   263\n",
       "2015-09-21     0    0    0    0   264\n",
       "2015-09-22     0    0    0    0   265\n",
       "2015-09-23     0    0    0    0   266\n",
       "2015-09-24     0    0    0    0   267\n",
       "2015-09-25     0    0    0    0   268\n",
       "2015-09-26     0    0    0    0   269\n",
       "2015-09-27     0    0    0    0   270\n",
       "2015-09-28     0    0    0    0   271\n",
       "2015-09-29     0    0    0    0   272\n",
       "2015-09-30     0    0    0    0   273\n",
       "\n",
       "[2000 rows x 5 columns]"
      ]
     },
     "execution_count": 183,
     "metadata": {},
     "output_type": "execute_result"
    }
   ],
   "source": [
    "weather_sanfrancisco.fillna('0').tail(2000)"
   ]
  },
  {
   "cell_type": "code",
   "execution_count": null,
   "metadata": {
    "collapsed": true
   },
   "outputs": [],
   "source": []
  }
 ],
 "metadata": {
  "kernelspec": {
   "display_name": "Python 3",
   "language": "python",
   "name": "python3"
  },
  "language_info": {
   "codemirror_mode": {
    "name": "ipython",
    "version": 3
   },
   "file_extension": ".py",
   "mimetype": "text/x-python",
   "name": "python",
   "nbconvert_exporter": "python",
   "pygments_lexer": "ipython3",
   "version": "3.4.2"
  }
 },
 "nbformat": 4,
 "nbformat_minor": 0
}
